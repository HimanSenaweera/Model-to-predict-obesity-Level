{
 "cells": [
  {
   "cell_type": "markdown",
   "id": "71ecf4cd",
   "metadata": {},
   "source": [
    "#### K-Means Clustering"
   ]
  },
  {
   "cell_type": "code",
   "execution_count": 499,
   "id": "3e6d7912",
   "metadata": {},
   "outputs": [],
   "source": [
    "from sklearn.pipeline import Pipeline\n",
    "from sklearn.compose import ColumnTransformer\n",
    "from sklearn.preprocessing import MinMaxScaler\n",
    "from sklearn.decomposition import PCA , KernelPCA\n",
    "from sklearn.cluster import KMeans\n",
    "from sklearn.metrics import silhouette_score\n",
    "import optuna\n",
    "from sklearn.model_selection import train_test_split"
   ]
  },
  {
   "cell_type": "code",
   "execution_count": 500,
   "id": "fc57751a",
   "metadata": {},
   "outputs": [],
   "source": [
    "dict={'model':['SoftmaxRegressionModel','RandomForestClassifier','XGBClassifier'],\n",
    "      'accuracy_score_train':[],\n",
    "      'accuracy_score_test':[],\n",
    "      'f1_score_train':[]}"
   ]
  },
  {
   "cell_type": "markdown",
   "id": "2610ed25",
   "metadata": {},
   "source": []
  },
  {
   "cell_type": "code",
   "execution_count": 501,
   "id": "92ef9a6a",
   "metadata": {},
   "outputs": [],
   "source": [
    "# Noramlization\n",
    "Numerical_features=[ 'Age','Height','Weight' ,'FCVC' ,'NCP' ,'CH2O' ,'FAF' , 'TUE' ]"
   ]
  },
  {
   "cell_type": "code",
   "execution_count": 502,
   "id": "984bf3fe",
   "metadata": {},
   "outputs": [],
   "source": [
    "import pandas as pd"
   ]
  },
  {
   "cell_type": "markdown",
   "id": "4ecad3df",
   "metadata": {},
   "source": [
    "`🧰 ColumnTransformer with MinMaxScaler — Explanation `\n",
    "\n",
    "The `ColumnTransformer` in Scikit-learn allows you to apply different preprocessing techniques to specific columns of your dataset. This is especially useful when you have a mix of numerical, categorical, and binary features.\n",
    "\n",
    "`🧾 ColumnTransformer Component Breakdown`\n",
    "\n",
    "| **Component**               | **Purpose**                                                                     |\n",
    "|-----------------------------|----------------------------------------------------------------------------------|\n",
    "| `'Normalization'`           | Just a **name** for this transformation step (can be anything)                  |\n",
    "| `MinMaxScaler()`            | Applies **Min-Max scaling** to selected columns (scales values to 0–1 range)   |\n",
    "| `NumericalFeatures`         | List of **column names or indices** that are numeric and should be scaled       |\n",
    "| `remainder='passthrough'`   | Tells it to **leave the rest of the columns unchanged**                         |\n",
    "\n"
   ]
  },
  {
   "cell_type": "code",
   "execution_count": 503,
   "id": "6793d160",
   "metadata": {},
   "outputs": [],
   "source": [
    "''' When we have a mix of numerical features and categorical features we use this just to normalize only the numerical features ''' \n",
    "PreprocessingFeatures = ColumnTransformer(\n",
    "    [\n",
    "        ('Normalization', MinMaxScaler(), Numerical_features)\n",
    "    ],\n",
    "    remainder='passthrough',n_jobs=2\n",
    ")\n"
   ]
  },
  {
   "cell_type": "markdown",
   "id": "999d822a",
   "metadata": {},
   "source": [
    "`⚙️ Pipeline in Scikit-learn`\n",
    "\n",
    "When building machine learning models in Scikit-learn, you can either manually preprocess your data and train the model, or use a `Pipeline` to automate and streamline the process."
   ]
  },
  {
   "cell_type": "code",
   "execution_count": 504,
   "id": "36011f6c",
   "metadata": {},
   "outputs": [],
   "source": [
    "pca=PCA(0.99,random_state=30)\n",
    "\n",
    "ClusteringAnalysis = Pipeline(\n",
    "    [\n",
    "        ('Preprocessing',PreprocessingFeatures), #0\n",
    "        ('DimensionalReduction',pca),            #1\n",
    "        ('Clustering',KMeans(n_clusters=4,random_state=30)), #2\n",
    "    ] \n",
    ")\n",
    "\n",
    " "
   ]
  },
  {
   "cell_type": "code",
   "execution_count": 505,
   "id": "0b5572f0",
   "metadata": {},
   "outputs": [],
   "source": [
    "df=pd.read_csv('ObesityDataSet_Cleaned.csv')"
   ]
  },
  {
   "cell_type": "code",
   "execution_count": 506,
   "id": "b12886c4",
   "metadata": {},
   "outputs": [],
   "source": [
    "LabelsClusters = ClusteringAnalysis.fit_predict(df)"
   ]
  },
  {
   "cell_type": "code",
   "execution_count": 507,
   "id": "a98fe7af",
   "metadata": {},
   "outputs": [
    {
     "data": {
      "text/plain": [
       "0.9999294424826446"
      ]
     },
     "execution_count": 507,
     "metadata": {},
     "output_type": "execute_result"
    }
   ],
   "source": [
    "pca.explained_variance_ratio_.sum()\n",
    "# this value closed to one means the new principle components represent the old dataset with old features well"
   ]
  },
  {
   "cell_type": "code",
   "execution_count": 508,
   "id": "495b2f1b",
   "metadata": {},
   "outputs": [],
   "source": [
    "TransformedDataset = ClusteringAnalysis[:2].transform(df) # here we only do the preprocesssing and dimensionality reduction"
   ]
  },
  {
   "cell_type": "code",
   "execution_count": 509,
   "id": "08a726b8",
   "metadata": {},
   "outputs": [
    {
     "data": {
      "text/plain": [
       "(2111, 1)"
      ]
     },
     "execution_count": 509,
     "metadata": {},
     "output_type": "execute_result"
    }
   ],
   "source": [
    "TransformedDataset.shape #here we see we have 7 principle components"
   ]
  },
  {
   "cell_type": "code",
   "execution_count": 510,
   "id": "f69d20ff",
   "metadata": {},
   "outputs": [
    {
     "name": "stdout",
     "output_type": "stream",
     "text": [
      "Silhouette Score :: 0.5710\n"
     ]
    }
   ],
   "source": [
    "_score = silhouette_score(TransformedDataset,LabelsClusters)\n",
    "print(f'Silhouette Score :: {_score:.4f}')"
   ]
  },
  {
   "cell_type": "markdown",
   "id": "e8747426",
   "metadata": {},
   "source": [
    "`📊 What is the Silhouette Score?`\n",
    "\n",
    "The **Silhouette Score** measures how similar a data point is to **its own cluster** compared to **other clusters**.\n",
    "\n",
    "It tells you how well each point fits into its assigned cluster.\n",
    "\n",
    "---\n",
    "\n",
    "`📐 Formula Intuition:`\n",
    "\n",
    "For each data point:\n",
    "\n",
    "- Let **a** = average distance to all other points in the **same cluster** (intra-cluster distance)\n",
    "- Let **b** = average distance to all points in the **nearest other cluster** (nearest-cluster distance)\n",
    "\n",
    "Then the **Silhouette Score** is computed as:\n",
    "\n",
    "\\[\n",
    "\\text{Silhouette Score} = \\frac{b - a}{\\max(a, b)}\n",
    "\\]\n",
    "\n",
    "---\n",
    "\n",
    "`🧠 What Do the Values Mean?`\n",
    "\n",
    "| **Silhouette Score**       | **Interpretation**                                                 |\n",
    "|----------------------------|---------------------------------------------------------------------|\n",
    "| **+1.0 (close to 1)**       | Perfectly matched to its own cluster, far from other clusters       |\n",
    "| **0**                      | On or very close to the boundary between two clusters               |\n",
    "| **-1.0 (close to -1)**      | Likely assigned to the wrong cluster                                |\n",
    "\n",
    "\n",
    "A **higher silhouette score** indicates better-defined and more clearly separated clusters.\n"
   ]
  },
  {
   "cell_type": "markdown",
   "id": "27f81563",
   "metadata": {},
   "source": [
    "#### Preprocesising Pipeline\n",
    "\n",
    "here we will use the StandardScaler library here for noramization"
   ]
  },
  {
   "cell_type": "code",
   "execution_count": 511,
   "id": "321eb80b",
   "metadata": {},
   "outputs": [],
   "source": [
    "from sklearn.preprocessing import StandardScaler"
   ]
  },
  {
   "cell_type": "code",
   "execution_count": 512,
   "id": "0bfe42bc",
   "metadata": {},
   "outputs": [
    {
     "data": {
      "text/html": [
       "<div>\n",
       "<style scoped>\n",
       "    .dataframe tbody tr th:only-of-type {\n",
       "        vertical-align: middle;\n",
       "    }\n",
       "\n",
       "    .dataframe tbody tr th {\n",
       "        vertical-align: top;\n",
       "    }\n",
       "\n",
       "    .dataframe thead th {\n",
       "        text-align: right;\n",
       "    }\n",
       "</style>\n",
       "<table border=\"1\" class=\"dataframe\">\n",
       "  <thead>\n",
       "    <tr style=\"text-align: right;\">\n",
       "      <th></th>\n",
       "      <th>Age</th>\n",
       "      <th>Height</th>\n",
       "      <th>Weight</th>\n",
       "      <th>FCVC</th>\n",
       "      <th>NCP</th>\n",
       "      <th>CH2O</th>\n",
       "      <th>FAF</th>\n",
       "      <th>TUE</th>\n",
       "    </tr>\n",
       "  </thead>\n",
       "  <tbody>\n",
       "    <tr>\n",
       "      <th>0</th>\n",
       "      <td>21.000000</td>\n",
       "      <td>1.620000</td>\n",
       "      <td>64.000000</td>\n",
       "      <td>2.0</td>\n",
       "      <td>3.0</td>\n",
       "      <td>2.000000</td>\n",
       "      <td>0.000000</td>\n",
       "      <td>1.000000</td>\n",
       "    </tr>\n",
       "    <tr>\n",
       "      <th>1</th>\n",
       "      <td>21.000000</td>\n",
       "      <td>1.520000</td>\n",
       "      <td>56.000000</td>\n",
       "      <td>3.0</td>\n",
       "      <td>3.0</td>\n",
       "      <td>3.000000</td>\n",
       "      <td>3.000000</td>\n",
       "      <td>0.000000</td>\n",
       "    </tr>\n",
       "    <tr>\n",
       "      <th>2</th>\n",
       "      <td>23.000000</td>\n",
       "      <td>1.800000</td>\n",
       "      <td>77.000000</td>\n",
       "      <td>2.0</td>\n",
       "      <td>3.0</td>\n",
       "      <td>2.000000</td>\n",
       "      <td>2.000000</td>\n",
       "      <td>1.000000</td>\n",
       "    </tr>\n",
       "    <tr>\n",
       "      <th>3</th>\n",
       "      <td>27.000000</td>\n",
       "      <td>1.800000</td>\n",
       "      <td>87.000000</td>\n",
       "      <td>3.0</td>\n",
       "      <td>3.0</td>\n",
       "      <td>2.000000</td>\n",
       "      <td>2.000000</td>\n",
       "      <td>0.000000</td>\n",
       "    </tr>\n",
       "    <tr>\n",
       "      <th>4</th>\n",
       "      <td>22.000000</td>\n",
       "      <td>1.780000</td>\n",
       "      <td>89.800000</td>\n",
       "      <td>2.0</td>\n",
       "      <td>1.0</td>\n",
       "      <td>2.000000</td>\n",
       "      <td>0.000000</td>\n",
       "      <td>0.000000</td>\n",
       "    </tr>\n",
       "    <tr>\n",
       "      <th>...</th>\n",
       "      <td>...</td>\n",
       "      <td>...</td>\n",
       "      <td>...</td>\n",
       "      <td>...</td>\n",
       "      <td>...</td>\n",
       "      <td>...</td>\n",
       "      <td>...</td>\n",
       "      <td>...</td>\n",
       "    </tr>\n",
       "    <tr>\n",
       "      <th>2106</th>\n",
       "      <td>20.976842</td>\n",
       "      <td>1.710730</td>\n",
       "      <td>131.408528</td>\n",
       "      <td>3.0</td>\n",
       "      <td>3.0</td>\n",
       "      <td>1.728139</td>\n",
       "      <td>1.676269</td>\n",
       "      <td>0.906247</td>\n",
       "    </tr>\n",
       "    <tr>\n",
       "      <th>2107</th>\n",
       "      <td>21.982942</td>\n",
       "      <td>1.748584</td>\n",
       "      <td>133.742943</td>\n",
       "      <td>3.0</td>\n",
       "      <td>3.0</td>\n",
       "      <td>2.005130</td>\n",
       "      <td>1.341390</td>\n",
       "      <td>0.599270</td>\n",
       "    </tr>\n",
       "    <tr>\n",
       "      <th>2108</th>\n",
       "      <td>22.524036</td>\n",
       "      <td>1.752206</td>\n",
       "      <td>133.689352</td>\n",
       "      <td>3.0</td>\n",
       "      <td>3.0</td>\n",
       "      <td>2.054193</td>\n",
       "      <td>1.414209</td>\n",
       "      <td>0.646288</td>\n",
       "    </tr>\n",
       "    <tr>\n",
       "      <th>2109</th>\n",
       "      <td>24.361936</td>\n",
       "      <td>1.739450</td>\n",
       "      <td>133.346641</td>\n",
       "      <td>3.0</td>\n",
       "      <td>3.0</td>\n",
       "      <td>2.852339</td>\n",
       "      <td>1.139107</td>\n",
       "      <td>0.586035</td>\n",
       "    </tr>\n",
       "    <tr>\n",
       "      <th>2110</th>\n",
       "      <td>23.664709</td>\n",
       "      <td>1.738836</td>\n",
       "      <td>133.472641</td>\n",
       "      <td>3.0</td>\n",
       "      <td>3.0</td>\n",
       "      <td>2.863513</td>\n",
       "      <td>1.026452</td>\n",
       "      <td>0.714137</td>\n",
       "    </tr>\n",
       "  </tbody>\n",
       "</table>\n",
       "<p>2111 rows × 8 columns</p>\n",
       "</div>"
      ],
      "text/plain": [
       "            Age    Height      Weight  FCVC  NCP      CH2O       FAF       TUE\n",
       "0     21.000000  1.620000   64.000000   2.0  3.0  2.000000  0.000000  1.000000\n",
       "1     21.000000  1.520000   56.000000   3.0  3.0  3.000000  3.000000  0.000000\n",
       "2     23.000000  1.800000   77.000000   2.0  3.0  2.000000  2.000000  1.000000\n",
       "3     27.000000  1.800000   87.000000   3.0  3.0  2.000000  2.000000  0.000000\n",
       "4     22.000000  1.780000   89.800000   2.0  1.0  2.000000  0.000000  0.000000\n",
       "...         ...       ...         ...   ...  ...       ...       ...       ...\n",
       "2106  20.976842  1.710730  131.408528   3.0  3.0  1.728139  1.676269  0.906247\n",
       "2107  21.982942  1.748584  133.742943   3.0  3.0  2.005130  1.341390  0.599270\n",
       "2108  22.524036  1.752206  133.689352   3.0  3.0  2.054193  1.414209  0.646288\n",
       "2109  24.361936  1.739450  133.346641   3.0  3.0  2.852339  1.139107  0.586035\n",
       "2110  23.664709  1.738836  133.472641   3.0  3.0  2.863513  1.026452  0.714137\n",
       "\n",
       "[2111 rows x 8 columns]"
      ]
     },
     "execution_count": 512,
     "metadata": {},
     "output_type": "execute_result"
    }
   ],
   "source": [
    "# these are the features that we are going to use for normalization\n",
    "df[Numerical_features] "
   ]
  },
  {
   "cell_type": "code",
   "execution_count": 513,
   "id": "949042b7",
   "metadata": {},
   "outputs": [
    {
     "data": {
      "text/html": [
       "<div>\n",
       "<style scoped>\n",
       "    .dataframe tbody tr th:only-of-type {\n",
       "        vertical-align: middle;\n",
       "    }\n",
       "\n",
       "    .dataframe tbody tr th {\n",
       "        vertical-align: top;\n",
       "    }\n",
       "\n",
       "    .dataframe thead th {\n",
       "        text-align: right;\n",
       "    }\n",
       "</style>\n",
       "<table border=\"1\" class=\"dataframe\">\n",
       "  <thead>\n",
       "    <tr style=\"text-align: right;\">\n",
       "      <th></th>\n",
       "      <th>Unnamed: 0</th>\n",
       "      <th>Gender</th>\n",
       "      <th>Age</th>\n",
       "      <th>Height</th>\n",
       "      <th>Weight</th>\n",
       "      <th>family_history_with_overweight</th>\n",
       "      <th>FAVC</th>\n",
       "      <th>FCVC</th>\n",
       "      <th>NCP</th>\n",
       "      <th>CAEC</th>\n",
       "      <th>SMOKE</th>\n",
       "      <th>CH2O</th>\n",
       "      <th>SCC</th>\n",
       "      <th>FAF</th>\n",
       "      <th>TUE</th>\n",
       "      <th>CALC</th>\n",
       "      <th>NObeyesdad</th>\n",
       "      <th>BMI</th>\n",
       "      <th>MTRANS_Automobile</th>\n",
       "      <th>MTRANS_Bike</th>\n",
       "      <th>MTRANS_Motorbike</th>\n",
       "      <th>MTRANS_Public_Transportation</th>\n",
       "      <th>MTRANS_Walking</th>\n",
       "    </tr>\n",
       "  </thead>\n",
       "  <tbody>\n",
       "    <tr>\n",
       "      <th>0</th>\n",
       "      <td>0</td>\n",
       "      <td>0</td>\n",
       "      <td>21.0</td>\n",
       "      <td>1.62</td>\n",
       "      <td>64.0</td>\n",
       "      <td>1</td>\n",
       "      <td>0</td>\n",
       "      <td>2.0</td>\n",
       "      <td>3.0</td>\n",
       "      <td>1</td>\n",
       "      <td>0</td>\n",
       "      <td>2.0</td>\n",
       "      <td>0</td>\n",
       "      <td>0.0</td>\n",
       "      <td>1.0</td>\n",
       "      <td>0</td>\n",
       "      <td>1</td>\n",
       "      <td>24.386526</td>\n",
       "      <td>0</td>\n",
       "      <td>0</td>\n",
       "      <td>0</td>\n",
       "      <td>1</td>\n",
       "      <td>0</td>\n",
       "    </tr>\n",
       "    <tr>\n",
       "      <th>1</th>\n",
       "      <td>1</td>\n",
       "      <td>0</td>\n",
       "      <td>21.0</td>\n",
       "      <td>1.52</td>\n",
       "      <td>56.0</td>\n",
       "      <td>1</td>\n",
       "      <td>0</td>\n",
       "      <td>3.0</td>\n",
       "      <td>3.0</td>\n",
       "      <td>1</td>\n",
       "      <td>1</td>\n",
       "      <td>3.0</td>\n",
       "      <td>1</td>\n",
       "      <td>3.0</td>\n",
       "      <td>0.0</td>\n",
       "      <td>1</td>\n",
       "      <td>1</td>\n",
       "      <td>24.238227</td>\n",
       "      <td>0</td>\n",
       "      <td>0</td>\n",
       "      <td>0</td>\n",
       "      <td>1</td>\n",
       "      <td>0</td>\n",
       "    </tr>\n",
       "    <tr>\n",
       "      <th>2</th>\n",
       "      <td>2</td>\n",
       "      <td>1</td>\n",
       "      <td>23.0</td>\n",
       "      <td>1.80</td>\n",
       "      <td>77.0</td>\n",
       "      <td>1</td>\n",
       "      <td>0</td>\n",
       "      <td>2.0</td>\n",
       "      <td>3.0</td>\n",
       "      <td>1</td>\n",
       "      <td>0</td>\n",
       "      <td>2.0</td>\n",
       "      <td>0</td>\n",
       "      <td>2.0</td>\n",
       "      <td>1.0</td>\n",
       "      <td>2</td>\n",
       "      <td>1</td>\n",
       "      <td>23.765432</td>\n",
       "      <td>0</td>\n",
       "      <td>0</td>\n",
       "      <td>0</td>\n",
       "      <td>1</td>\n",
       "      <td>0</td>\n",
       "    </tr>\n",
       "    <tr>\n",
       "      <th>3</th>\n",
       "      <td>3</td>\n",
       "      <td>1</td>\n",
       "      <td>27.0</td>\n",
       "      <td>1.80</td>\n",
       "      <td>87.0</td>\n",
       "      <td>0</td>\n",
       "      <td>0</td>\n",
       "      <td>3.0</td>\n",
       "      <td>3.0</td>\n",
       "      <td>1</td>\n",
       "      <td>0</td>\n",
       "      <td>2.0</td>\n",
       "      <td>0</td>\n",
       "      <td>2.0</td>\n",
       "      <td>0.0</td>\n",
       "      <td>2</td>\n",
       "      <td>5</td>\n",
       "      <td>26.851852</td>\n",
       "      <td>0</td>\n",
       "      <td>0</td>\n",
       "      <td>0</td>\n",
       "      <td>0</td>\n",
       "      <td>1</td>\n",
       "    </tr>\n",
       "    <tr>\n",
       "      <th>4</th>\n",
       "      <td>4</td>\n",
       "      <td>1</td>\n",
       "      <td>22.0</td>\n",
       "      <td>1.78</td>\n",
       "      <td>89.8</td>\n",
       "      <td>0</td>\n",
       "      <td>0</td>\n",
       "      <td>2.0</td>\n",
       "      <td>1.0</td>\n",
       "      <td>1</td>\n",
       "      <td>0</td>\n",
       "      <td>2.0</td>\n",
       "      <td>0</td>\n",
       "      <td>0.0</td>\n",
       "      <td>0.0</td>\n",
       "      <td>1</td>\n",
       "      <td>6</td>\n",
       "      <td>28.342381</td>\n",
       "      <td>0</td>\n",
       "      <td>0</td>\n",
       "      <td>0</td>\n",
       "      <td>1</td>\n",
       "      <td>0</td>\n",
       "    </tr>\n",
       "  </tbody>\n",
       "</table>\n",
       "</div>"
      ],
      "text/plain": [
       "   Unnamed: 0  Gender  ...  MTRANS_Public_Transportation  MTRANS_Walking\n",
       "0           0       0  ...                             1               0\n",
       "1           1       0  ...                             1               0\n",
       "2           2       1  ...                             1               0\n",
       "3           3       1  ...                             0               1\n",
       "4           4       1  ...                             1               0\n",
       "\n",
       "[5 rows x 23 columns]"
      ]
     },
     "execution_count": 513,
     "metadata": {},
     "output_type": "execute_result"
    }
   ],
   "source": [
    "df_copy=df.copy()\n",
    "df_copy.head()\n",
    "df_copy=df_copy.drop(columns=['NObeyesdad'],axis=1)\n",
    "df.head()\n"
   ]
  },
  {
   "cell_type": "code",
   "execution_count": 514,
   "id": "75aaf538",
   "metadata": {},
   "outputs": [],
   "source": [
    "X_train, X_test, y_train, y_test = train_test_split(df_copy,df['NObeyesdad'],test_size=0.2,random_state=30)"
   ]
  },
  {
   "cell_type": "code",
   "execution_count": 515,
   "id": "b67378b6",
   "metadata": {},
   "outputs": [],
   "source": [
    "from sklearn.linear_model import LogisticRegression\n",
    "from sklearn.model_selection import cross_val_score"
   ]
  },
  {
   "cell_type": "code",
   "execution_count": 516,
   "id": "efc120bd",
   "metadata": {},
   "outputs": [],
   "source": [
    "PreprocessingFeatures = ColumnTransformer(\n",
    "    [\n",
    "        ('Normalization', StandardScaler(), Numerical_features)\n",
    "    ],\n",
    "    remainder='passthrough')"
   ]
  },
  {
   "cell_type": "code",
   "execution_count": 517,
   "id": "83a7cb74",
   "metadata": {},
   "outputs": [
    {
     "data": {
      "text/html": [
       "<style>#sk-container-id-21 {\n",
       "  /* Definition of color scheme common for light and dark mode */\n",
       "  --sklearn-color-text: #000;\n",
       "  --sklearn-color-text-muted: #666;\n",
       "  --sklearn-color-line: gray;\n",
       "  /* Definition of color scheme for unfitted estimators */\n",
       "  --sklearn-color-unfitted-level-0: #fff5e6;\n",
       "  --sklearn-color-unfitted-level-1: #f6e4d2;\n",
       "  --sklearn-color-unfitted-level-2: #ffe0b3;\n",
       "  --sklearn-color-unfitted-level-3: chocolate;\n",
       "  /* Definition of color scheme for fitted estimators */\n",
       "  --sklearn-color-fitted-level-0: #f0f8ff;\n",
       "  --sklearn-color-fitted-level-1: #d4ebff;\n",
       "  --sklearn-color-fitted-level-2: #b3dbfd;\n",
       "  --sklearn-color-fitted-level-3: cornflowerblue;\n",
       "\n",
       "  /* Specific color for light theme */\n",
       "  --sklearn-color-text-on-default-background: var(--sg-text-color, var(--theme-code-foreground, var(--jp-content-font-color1, black)));\n",
       "  --sklearn-color-background: var(--sg-background-color, var(--theme-background, var(--jp-layout-color0, white)));\n",
       "  --sklearn-color-border-box: var(--sg-text-color, var(--theme-code-foreground, var(--jp-content-font-color1, black)));\n",
       "  --sklearn-color-icon: #696969;\n",
       "\n",
       "  @media (prefers-color-scheme: dark) {\n",
       "    /* Redefinition of color scheme for dark theme */\n",
       "    --sklearn-color-text-on-default-background: var(--sg-text-color, var(--theme-code-foreground, var(--jp-content-font-color1, white)));\n",
       "    --sklearn-color-background: var(--sg-background-color, var(--theme-background, var(--jp-layout-color0, #111)));\n",
       "    --sklearn-color-border-box: var(--sg-text-color, var(--theme-code-foreground, var(--jp-content-font-color1, white)));\n",
       "    --sklearn-color-icon: #878787;\n",
       "  }\n",
       "}\n",
       "\n",
       "#sk-container-id-21 {\n",
       "  color: var(--sklearn-color-text);\n",
       "}\n",
       "\n",
       "#sk-container-id-21 pre {\n",
       "  padding: 0;\n",
       "}\n",
       "\n",
       "#sk-container-id-21 input.sk-hidden--visually {\n",
       "  border: 0;\n",
       "  clip: rect(1px 1px 1px 1px);\n",
       "  clip: rect(1px, 1px, 1px, 1px);\n",
       "  height: 1px;\n",
       "  margin: -1px;\n",
       "  overflow: hidden;\n",
       "  padding: 0;\n",
       "  position: absolute;\n",
       "  width: 1px;\n",
       "}\n",
       "\n",
       "#sk-container-id-21 div.sk-dashed-wrapped {\n",
       "  border: 1px dashed var(--sklearn-color-line);\n",
       "  margin: 0 0.4em 0.5em 0.4em;\n",
       "  box-sizing: border-box;\n",
       "  padding-bottom: 0.4em;\n",
       "  background-color: var(--sklearn-color-background);\n",
       "}\n",
       "\n",
       "#sk-container-id-21 div.sk-container {\n",
       "  /* jupyter's `normalize.less` sets `[hidden] { display: none; }`\n",
       "     but bootstrap.min.css set `[hidden] { display: none !important; }`\n",
       "     so we also need the `!important` here to be able to override the\n",
       "     default hidden behavior on the sphinx rendered scikit-learn.org.\n",
       "     See: https://github.com/scikit-learn/scikit-learn/issues/21755 */\n",
       "  display: inline-block !important;\n",
       "  position: relative;\n",
       "}\n",
       "\n",
       "#sk-container-id-21 div.sk-text-repr-fallback {\n",
       "  display: none;\n",
       "}\n",
       "\n",
       "div.sk-parallel-item,\n",
       "div.sk-serial,\n",
       "div.sk-item {\n",
       "  /* draw centered vertical line to link estimators */\n",
       "  background-image: linear-gradient(var(--sklearn-color-text-on-default-background), var(--sklearn-color-text-on-default-background));\n",
       "  background-size: 2px 100%;\n",
       "  background-repeat: no-repeat;\n",
       "  background-position: center center;\n",
       "}\n",
       "\n",
       "/* Parallel-specific style estimator block */\n",
       "\n",
       "#sk-container-id-21 div.sk-parallel-item::after {\n",
       "  content: \"\";\n",
       "  width: 100%;\n",
       "  border-bottom: 2px solid var(--sklearn-color-text-on-default-background);\n",
       "  flex-grow: 1;\n",
       "}\n",
       "\n",
       "#sk-container-id-21 div.sk-parallel {\n",
       "  display: flex;\n",
       "  align-items: stretch;\n",
       "  justify-content: center;\n",
       "  background-color: var(--sklearn-color-background);\n",
       "  position: relative;\n",
       "}\n",
       "\n",
       "#sk-container-id-21 div.sk-parallel-item {\n",
       "  display: flex;\n",
       "  flex-direction: column;\n",
       "}\n",
       "\n",
       "#sk-container-id-21 div.sk-parallel-item:first-child::after {\n",
       "  align-self: flex-end;\n",
       "  width: 50%;\n",
       "}\n",
       "\n",
       "#sk-container-id-21 div.sk-parallel-item:last-child::after {\n",
       "  align-self: flex-start;\n",
       "  width: 50%;\n",
       "}\n",
       "\n",
       "#sk-container-id-21 div.sk-parallel-item:only-child::after {\n",
       "  width: 0;\n",
       "}\n",
       "\n",
       "/* Serial-specific style estimator block */\n",
       "\n",
       "#sk-container-id-21 div.sk-serial {\n",
       "  display: flex;\n",
       "  flex-direction: column;\n",
       "  align-items: center;\n",
       "  background-color: var(--sklearn-color-background);\n",
       "  padding-right: 1em;\n",
       "  padding-left: 1em;\n",
       "}\n",
       "\n",
       "\n",
       "/* Toggleable style: style used for estimator/Pipeline/ColumnTransformer box that is\n",
       "clickable and can be expanded/collapsed.\n",
       "- Pipeline and ColumnTransformer use this feature and define the default style\n",
       "- Estimators will overwrite some part of the style using the `sk-estimator` class\n",
       "*/\n",
       "\n",
       "/* Pipeline and ColumnTransformer style (default) */\n",
       "\n",
       "#sk-container-id-21 div.sk-toggleable {\n",
       "  /* Default theme specific background. It is overwritten whether we have a\n",
       "  specific estimator or a Pipeline/ColumnTransformer */\n",
       "  background-color: var(--sklearn-color-background);\n",
       "}\n",
       "\n",
       "/* Toggleable label */\n",
       "#sk-container-id-21 label.sk-toggleable__label {\n",
       "  cursor: pointer;\n",
       "  display: flex;\n",
       "  width: 100%;\n",
       "  margin-bottom: 0;\n",
       "  padding: 0.5em;\n",
       "  box-sizing: border-box;\n",
       "  text-align: center;\n",
       "  align-items: start;\n",
       "  justify-content: space-between;\n",
       "  gap: 0.5em;\n",
       "}\n",
       "\n",
       "#sk-container-id-21 label.sk-toggleable__label .caption {\n",
       "  font-size: 0.6rem;\n",
       "  font-weight: lighter;\n",
       "  color: var(--sklearn-color-text-muted);\n",
       "}\n",
       "\n",
       "#sk-container-id-21 label.sk-toggleable__label-arrow:before {\n",
       "  /* Arrow on the left of the label */\n",
       "  content: \"▸\";\n",
       "  float: left;\n",
       "  margin-right: 0.25em;\n",
       "  color: var(--sklearn-color-icon);\n",
       "}\n",
       "\n",
       "#sk-container-id-21 label.sk-toggleable__label-arrow:hover:before {\n",
       "  color: var(--sklearn-color-text);\n",
       "}\n",
       "\n",
       "/* Toggleable content - dropdown */\n",
       "\n",
       "#sk-container-id-21 div.sk-toggleable__content {\n",
       "  max-height: 0;\n",
       "  max-width: 0;\n",
       "  overflow: hidden;\n",
       "  text-align: left;\n",
       "  /* unfitted */\n",
       "  background-color: var(--sklearn-color-unfitted-level-0);\n",
       "}\n",
       "\n",
       "#sk-container-id-21 div.sk-toggleable__content.fitted {\n",
       "  /* fitted */\n",
       "  background-color: var(--sklearn-color-fitted-level-0);\n",
       "}\n",
       "\n",
       "#sk-container-id-21 div.sk-toggleable__content pre {\n",
       "  margin: 0.2em;\n",
       "  border-radius: 0.25em;\n",
       "  color: var(--sklearn-color-text);\n",
       "  /* unfitted */\n",
       "  background-color: var(--sklearn-color-unfitted-level-0);\n",
       "}\n",
       "\n",
       "#sk-container-id-21 div.sk-toggleable__content.fitted pre {\n",
       "  /* unfitted */\n",
       "  background-color: var(--sklearn-color-fitted-level-0);\n",
       "}\n",
       "\n",
       "#sk-container-id-21 input.sk-toggleable__control:checked~div.sk-toggleable__content {\n",
       "  /* Expand drop-down */\n",
       "  max-height: 200px;\n",
       "  max-width: 100%;\n",
       "  overflow: auto;\n",
       "}\n",
       "\n",
       "#sk-container-id-21 input.sk-toggleable__control:checked~label.sk-toggleable__label-arrow:before {\n",
       "  content: \"▾\";\n",
       "}\n",
       "\n",
       "/* Pipeline/ColumnTransformer-specific style */\n",
       "\n",
       "#sk-container-id-21 div.sk-label input.sk-toggleable__control:checked~label.sk-toggleable__label {\n",
       "  color: var(--sklearn-color-text);\n",
       "  background-color: var(--sklearn-color-unfitted-level-2);\n",
       "}\n",
       "\n",
       "#sk-container-id-21 div.sk-label.fitted input.sk-toggleable__control:checked~label.sk-toggleable__label {\n",
       "  background-color: var(--sklearn-color-fitted-level-2);\n",
       "}\n",
       "\n",
       "/* Estimator-specific style */\n",
       "\n",
       "/* Colorize estimator box */\n",
       "#sk-container-id-21 div.sk-estimator input.sk-toggleable__control:checked~label.sk-toggleable__label {\n",
       "  /* unfitted */\n",
       "  background-color: var(--sklearn-color-unfitted-level-2);\n",
       "}\n",
       "\n",
       "#sk-container-id-21 div.sk-estimator.fitted input.sk-toggleable__control:checked~label.sk-toggleable__label {\n",
       "  /* fitted */\n",
       "  background-color: var(--sklearn-color-fitted-level-2);\n",
       "}\n",
       "\n",
       "#sk-container-id-21 div.sk-label label.sk-toggleable__label,\n",
       "#sk-container-id-21 div.sk-label label {\n",
       "  /* The background is the default theme color */\n",
       "  color: var(--sklearn-color-text-on-default-background);\n",
       "}\n",
       "\n",
       "/* On hover, darken the color of the background */\n",
       "#sk-container-id-21 div.sk-label:hover label.sk-toggleable__label {\n",
       "  color: var(--sklearn-color-text);\n",
       "  background-color: var(--sklearn-color-unfitted-level-2);\n",
       "}\n",
       "\n",
       "/* Label box, darken color on hover, fitted */\n",
       "#sk-container-id-21 div.sk-label.fitted:hover label.sk-toggleable__label.fitted {\n",
       "  color: var(--sklearn-color-text);\n",
       "  background-color: var(--sklearn-color-fitted-level-2);\n",
       "}\n",
       "\n",
       "/* Estimator label */\n",
       "\n",
       "#sk-container-id-21 div.sk-label label {\n",
       "  font-family: monospace;\n",
       "  font-weight: bold;\n",
       "  display: inline-block;\n",
       "  line-height: 1.2em;\n",
       "}\n",
       "\n",
       "#sk-container-id-21 div.sk-label-container {\n",
       "  text-align: center;\n",
       "}\n",
       "\n",
       "/* Estimator-specific */\n",
       "#sk-container-id-21 div.sk-estimator {\n",
       "  font-family: monospace;\n",
       "  border: 1px dotted var(--sklearn-color-border-box);\n",
       "  border-radius: 0.25em;\n",
       "  box-sizing: border-box;\n",
       "  margin-bottom: 0.5em;\n",
       "  /* unfitted */\n",
       "  background-color: var(--sklearn-color-unfitted-level-0);\n",
       "}\n",
       "\n",
       "#sk-container-id-21 div.sk-estimator.fitted {\n",
       "  /* fitted */\n",
       "  background-color: var(--sklearn-color-fitted-level-0);\n",
       "}\n",
       "\n",
       "/* on hover */\n",
       "#sk-container-id-21 div.sk-estimator:hover {\n",
       "  /* unfitted */\n",
       "  background-color: var(--sklearn-color-unfitted-level-2);\n",
       "}\n",
       "\n",
       "#sk-container-id-21 div.sk-estimator.fitted:hover {\n",
       "  /* fitted */\n",
       "  background-color: var(--sklearn-color-fitted-level-2);\n",
       "}\n",
       "\n",
       "/* Specification for estimator info (e.g. \"i\" and \"?\") */\n",
       "\n",
       "/* Common style for \"i\" and \"?\" */\n",
       "\n",
       ".sk-estimator-doc-link,\n",
       "a:link.sk-estimator-doc-link,\n",
       "a:visited.sk-estimator-doc-link {\n",
       "  float: right;\n",
       "  font-size: smaller;\n",
       "  line-height: 1em;\n",
       "  font-family: monospace;\n",
       "  background-color: var(--sklearn-color-background);\n",
       "  border-radius: 1em;\n",
       "  height: 1em;\n",
       "  width: 1em;\n",
       "  text-decoration: none !important;\n",
       "  margin-left: 0.5em;\n",
       "  text-align: center;\n",
       "  /* unfitted */\n",
       "  border: var(--sklearn-color-unfitted-level-1) 1pt solid;\n",
       "  color: var(--sklearn-color-unfitted-level-1);\n",
       "}\n",
       "\n",
       ".sk-estimator-doc-link.fitted,\n",
       "a:link.sk-estimator-doc-link.fitted,\n",
       "a:visited.sk-estimator-doc-link.fitted {\n",
       "  /* fitted */\n",
       "  border: var(--sklearn-color-fitted-level-1) 1pt solid;\n",
       "  color: var(--sklearn-color-fitted-level-1);\n",
       "}\n",
       "\n",
       "/* On hover */\n",
       "div.sk-estimator:hover .sk-estimator-doc-link:hover,\n",
       ".sk-estimator-doc-link:hover,\n",
       "div.sk-label-container:hover .sk-estimator-doc-link:hover,\n",
       ".sk-estimator-doc-link:hover {\n",
       "  /* unfitted */\n",
       "  background-color: var(--sklearn-color-unfitted-level-3);\n",
       "  color: var(--sklearn-color-background);\n",
       "  text-decoration: none;\n",
       "}\n",
       "\n",
       "div.sk-estimator.fitted:hover .sk-estimator-doc-link.fitted:hover,\n",
       ".sk-estimator-doc-link.fitted:hover,\n",
       "div.sk-label-container:hover .sk-estimator-doc-link.fitted:hover,\n",
       ".sk-estimator-doc-link.fitted:hover {\n",
       "  /* fitted */\n",
       "  background-color: var(--sklearn-color-fitted-level-3);\n",
       "  color: var(--sklearn-color-background);\n",
       "  text-decoration: none;\n",
       "}\n",
       "\n",
       "/* Span, style for the box shown on hovering the info icon */\n",
       ".sk-estimator-doc-link span {\n",
       "  display: none;\n",
       "  z-index: 9999;\n",
       "  position: relative;\n",
       "  font-weight: normal;\n",
       "  right: .2ex;\n",
       "  padding: .5ex;\n",
       "  margin: .5ex;\n",
       "  width: min-content;\n",
       "  min-width: 20ex;\n",
       "  max-width: 50ex;\n",
       "  color: var(--sklearn-color-text);\n",
       "  box-shadow: 2pt 2pt 4pt #999;\n",
       "  /* unfitted */\n",
       "  background: var(--sklearn-color-unfitted-level-0);\n",
       "  border: .5pt solid var(--sklearn-color-unfitted-level-3);\n",
       "}\n",
       "\n",
       ".sk-estimator-doc-link.fitted span {\n",
       "  /* fitted */\n",
       "  background: var(--sklearn-color-fitted-level-0);\n",
       "  border: var(--sklearn-color-fitted-level-3);\n",
       "}\n",
       "\n",
       ".sk-estimator-doc-link:hover span {\n",
       "  display: block;\n",
       "}\n",
       "\n",
       "/* \"?\"-specific style due to the `<a>` HTML tag */\n",
       "\n",
       "#sk-container-id-21 a.estimator_doc_link {\n",
       "  float: right;\n",
       "  font-size: 1rem;\n",
       "  line-height: 1em;\n",
       "  font-family: monospace;\n",
       "  background-color: var(--sklearn-color-background);\n",
       "  border-radius: 1rem;\n",
       "  height: 1rem;\n",
       "  width: 1rem;\n",
       "  text-decoration: none;\n",
       "  /* unfitted */\n",
       "  color: var(--sklearn-color-unfitted-level-1);\n",
       "  border: var(--sklearn-color-unfitted-level-1) 1pt solid;\n",
       "}\n",
       "\n",
       "#sk-container-id-21 a.estimator_doc_link.fitted {\n",
       "  /* fitted */\n",
       "  border: var(--sklearn-color-fitted-level-1) 1pt solid;\n",
       "  color: var(--sklearn-color-fitted-level-1);\n",
       "}\n",
       "\n",
       "/* On hover */\n",
       "#sk-container-id-21 a.estimator_doc_link:hover {\n",
       "  /* unfitted */\n",
       "  background-color: var(--sklearn-color-unfitted-level-3);\n",
       "  color: var(--sklearn-color-background);\n",
       "  text-decoration: none;\n",
       "}\n",
       "\n",
       "#sk-container-id-21 a.estimator_doc_link.fitted:hover {\n",
       "  /* fitted */\n",
       "  background-color: var(--sklearn-color-fitted-level-3);\n",
       "}\n",
       "</style><div id=\"sk-container-id-21\" class=\"sk-top-container\"><div class=\"sk-text-repr-fallback\"><pre>ColumnTransformer(remainder=&#x27;passthrough&#x27;,\n",
       "                  transformers=[(&#x27;Normalization&#x27;, StandardScaler(),\n",
       "                                 [&#x27;Age&#x27;, &#x27;Height&#x27;, &#x27;Weight&#x27;, &#x27;FCVC&#x27;, &#x27;NCP&#x27;,\n",
       "                                  &#x27;CH2O&#x27;, &#x27;FAF&#x27;, &#x27;TUE&#x27;])])</pre><b>In a Jupyter environment, please rerun this cell to show the HTML representation or trust the notebook. <br />On GitHub, the HTML representation is unable to render, please try loading this page with nbviewer.org.</b></div><div class=\"sk-container\" hidden><div class=\"sk-item sk-dashed-wrapped\"><div class=\"sk-label-container\"><div class=\"sk-label  sk-toggleable\"><input class=\"sk-toggleable__control sk-hidden--visually\" id=\"sk-estimator-id-121\" type=\"checkbox\" ><label for=\"sk-estimator-id-121\" class=\"sk-toggleable__label  sk-toggleable__label-arrow\"><div><div>ColumnTransformer</div></div><div><a class=\"sk-estimator-doc-link \" rel=\"noreferrer\" target=\"_blank\" href=\"https://scikit-learn.org/1.6/modules/generated/sklearn.compose.ColumnTransformer.html\">?<span>Documentation for ColumnTransformer</span></a><span class=\"sk-estimator-doc-link \">i<span>Not fitted</span></span></div></label><div class=\"sk-toggleable__content \"><pre>ColumnTransformer(remainder=&#x27;passthrough&#x27;,\n",
       "                  transformers=[(&#x27;Normalization&#x27;, StandardScaler(),\n",
       "                                 [&#x27;Age&#x27;, &#x27;Height&#x27;, &#x27;Weight&#x27;, &#x27;FCVC&#x27;, &#x27;NCP&#x27;,\n",
       "                                  &#x27;CH2O&#x27;, &#x27;FAF&#x27;, &#x27;TUE&#x27;])])</pre></div> </div></div><div class=\"sk-parallel\"><div class=\"sk-parallel-item\"><div class=\"sk-item\"><div class=\"sk-label-container\"><div class=\"sk-label  sk-toggleable\"><input class=\"sk-toggleable__control sk-hidden--visually\" id=\"sk-estimator-id-122\" type=\"checkbox\" ><label for=\"sk-estimator-id-122\" class=\"sk-toggleable__label  sk-toggleable__label-arrow\"><div><div>Normalization</div></div></label><div class=\"sk-toggleable__content \"><pre>[&#x27;Age&#x27;, &#x27;Height&#x27;, &#x27;Weight&#x27;, &#x27;FCVC&#x27;, &#x27;NCP&#x27;, &#x27;CH2O&#x27;, &#x27;FAF&#x27;, &#x27;TUE&#x27;]</pre></div> </div></div><div class=\"sk-serial\"><div class=\"sk-item\"><div class=\"sk-estimator  sk-toggleable\"><input class=\"sk-toggleable__control sk-hidden--visually\" id=\"sk-estimator-id-123\" type=\"checkbox\" ><label for=\"sk-estimator-id-123\" class=\"sk-toggleable__label  sk-toggleable__label-arrow\"><div><div>StandardScaler</div></div><div><a class=\"sk-estimator-doc-link \" rel=\"noreferrer\" target=\"_blank\" href=\"https://scikit-learn.org/1.6/modules/generated/sklearn.preprocessing.StandardScaler.html\">?<span>Documentation for StandardScaler</span></a></div></label><div class=\"sk-toggleable__content \"><pre>StandardScaler()</pre></div> </div></div></div></div></div><div class=\"sk-parallel-item\"><div class=\"sk-item\"><div class=\"sk-label-container\"><div class=\"sk-label  sk-toggleable\"><input class=\"sk-toggleable__control sk-hidden--visually\" id=\"sk-estimator-id-124\" type=\"checkbox\" ><label for=\"sk-estimator-id-124\" class=\"sk-toggleable__label  sk-toggleable__label-arrow\"><div><div>remainder</div></div></label><div class=\"sk-toggleable__content \"><pre></pre></div> </div></div><div class=\"sk-serial\"><div class=\"sk-item\"><div class=\"sk-estimator  sk-toggleable\"><input class=\"sk-toggleable__control sk-hidden--visually\" id=\"sk-estimator-id-125\" type=\"checkbox\" ><label for=\"sk-estimator-id-125\" class=\"sk-toggleable__label  sk-toggleable__label-arrow\"><div><div>passthrough</div></div></label><div class=\"sk-toggleable__content \"><pre>passthrough</pre></div> </div></div></div></div></div></div></div></div></div>"
      ],
      "text/plain": [
       "ColumnTransformer(remainder='passthrough',\n",
       "                  transformers=[('Normalization', StandardScaler(),\n",
       "                                 ['Age', 'Height', 'Weight', 'FCVC', 'NCP',\n",
       "                                  'CH2O', 'FAF', 'TUE'])])"
      ]
     },
     "execution_count": 517,
     "metadata": {},
     "output_type": "execute_result"
    }
   ],
   "source": [
    "PreprocessingFeatures"
   ]
  },
  {
   "cell_type": "markdown",
   "id": "a050c6b0",
   "metadata": {},
   "source": [
    "### Softmax Regression"
   ]
  },
  {
   "cell_type": "code",
   "execution_count": 518,
   "id": "83a4637c",
   "metadata": {},
   "outputs": [],
   "source": [
    "from sklearn.linear_model import LogisticRegression"
   ]
  },
  {
   "cell_type": "code",
   "execution_count": 519,
   "id": "57ffa338",
   "metadata": {},
   "outputs": [],
   "source": [
    "def objective(trial):\n",
    "    # Suggest hyperparameters\n",
    "    C = trial.suggest_float('SoftmaxRegressionModel__C',1,10,log=True) #considering float values between 1e-10 and 2 \n",
    "    #use log=True for logarithmic scale\n",
    "    l1_ratio=trial.suggest_float('SoftmaxRegressionModel__l1_ratio',0,1) #considering float values between 0 and 1\n",
    "    \n",
    "    # Create pipeline\n",
    "    pipeline = Pipeline([\n",
    "        ('Preprocessing',PreprocessingFeatures),\n",
    "        ('SoftmaxRegressionModel', LogisticRegression(\n",
    "            penalty='elasticnet',\n",
    "            solver='saga',\n",
    "            random_state=40,\n",
    "            l1_ratio=l1_ratio,\n",
    "            C=C,\n",
    "            max_iter=1000\n",
    "            ))\n",
    "    ])\n",
    "\n",
    "    # Cross-validate\n",
    "    score = cross_val_score(pipeline, X_train, y_train, cv=3, scoring='accuracy')\n",
    "    return score.mean()\n",
    "    #optuna tries to maximize the accuracy score\n",
    "    # we can also use other scoring metrics like f1, precision, recall, roc_auc\n",
    "    "
   ]
  },
  {
   "cell_type": "code",
   "execution_count": null,
   "id": "5c9b5a90",
   "metadata": {},
   "outputs": [
    {
     "name": "stderr",
     "output_type": "stream",
     "text": [
      "[I 2025-08-03 09:55:42,219] A new study created in memory with name: no-name-a1a22bb5-ea95-4fd5-a15c-0e03a4866ec1\n",
      "c:\\Users\\singer\\anaconda3\\lib\\site-packages\\sklearn\\linear_model\\_sag.py:348: ConvergenceWarning: The max_iter was reached which means the coef_ did not converge\n",
      "  warnings.warn(\n",
      "c:\\Users\\singer\\anaconda3\\lib\\site-packages\\sklearn\\linear_model\\_sag.py:348: ConvergenceWarning: The max_iter was reached which means the coef_ did not converge\n",
      "  warnings.warn(\n",
      "c:\\Users\\singer\\anaconda3\\lib\\site-packages\\sklearn\\linear_model\\_sag.py:348: ConvergenceWarning: The max_iter was reached which means the coef_ did not converge\n",
      "  warnings.warn(\n",
      "[I 2025-08-03 09:55:45,633] Trial 0 finished with value: 0.3341213504168694 and parameters: {'SoftmaxRegressionModel__C': 4.407004927203142, 'SoftmaxRegressionModel__l1_ratio': 0.38074848963511654}. Best is trial 0 with value: 0.3341213504168694.\n",
      "c:\\Users\\singer\\anaconda3\\lib\\site-packages\\sklearn\\linear_model\\_sag.py:348: ConvergenceWarning: The max_iter was reached which means the coef_ did not converge\n",
      "  warnings.warn(\n",
      "c:\\Users\\singer\\anaconda3\\lib\\site-packages\\sklearn\\linear_model\\_sag.py:348: ConvergenceWarning: The max_iter was reached which means the coef_ did not converge\n",
      "  warnings.warn(\n",
      "c:\\Users\\singer\\anaconda3\\lib\\site-packages\\sklearn\\linear_model\\_sag.py:348: ConvergenceWarning: The max_iter was reached which means the coef_ did not converge\n",
      "  warnings.warn(\n",
      "[I 2025-08-03 09:55:49,032] Trial 1 finished with value: 0.3341213504168694 and parameters: {'SoftmaxRegressionModel__C': 4.603073454945862, 'SoftmaxRegressionModel__l1_ratio': 0.16365072610275333}. Best is trial 0 with value: 0.3341213504168694.\n",
      "c:\\Users\\singer\\anaconda3\\lib\\site-packages\\sklearn\\linear_model\\_sag.py:348: ConvergenceWarning: The max_iter was reached which means the coef_ did not converge\n",
      "  warnings.warn(\n",
      "c:\\Users\\singer\\anaconda3\\lib\\site-packages\\sklearn\\linear_model\\_sag.py:348: ConvergenceWarning: The max_iter was reached which means the coef_ did not converge\n",
      "  warnings.warn(\n",
      "c:\\Users\\singer\\anaconda3\\lib\\site-packages\\sklearn\\linear_model\\_sag.py:348: ConvergenceWarning: The max_iter was reached which means the coef_ did not converge\n",
      "  warnings.warn(\n",
      "[I 2025-08-03 09:55:52,487] Trial 2 finished with value: 0.3341213504168694 and parameters: {'SoftmaxRegressionModel__C': 9.175036775542134, 'SoftmaxRegressionModel__l1_ratio': 0.34666184037976566}. Best is trial 0 with value: 0.3341213504168694.\n",
      "c:\\Users\\singer\\anaconda3\\lib\\site-packages\\sklearn\\linear_model\\_sag.py:348: ConvergenceWarning: The max_iter was reached which means the coef_ did not converge\n",
      "  warnings.warn(\n",
      "c:\\Users\\singer\\anaconda3\\lib\\site-packages\\sklearn\\linear_model\\_sag.py:348: ConvergenceWarning: The max_iter was reached which means the coef_ did not converge\n",
      "  warnings.warn(\n",
      "c:\\Users\\singer\\anaconda3\\lib\\site-packages\\sklearn\\linear_model\\_sag.py:348: ConvergenceWarning: The max_iter was reached which means the coef_ did not converge\n",
      "  warnings.warn(\n",
      "[I 2025-08-03 09:55:56,197] Trial 3 finished with value: 0.3341213504168694 and parameters: {'SoftmaxRegressionModel__C': 9.811852079534544, 'SoftmaxRegressionModel__l1_ratio': 0.2350578956056456}. Best is trial 0 with value: 0.3341213504168694.\n",
      "c:\\Users\\singer\\anaconda3\\lib\\site-packages\\sklearn\\linear_model\\_sag.py:348: ConvergenceWarning: The max_iter was reached which means the coef_ did not converge\n",
      "  warnings.warn(\n",
      "c:\\Users\\singer\\anaconda3\\lib\\site-packages\\sklearn\\linear_model\\_sag.py:348: ConvergenceWarning: The max_iter was reached which means the coef_ did not converge\n",
      "  warnings.warn(\n",
      "c:\\Users\\singer\\anaconda3\\lib\\site-packages\\sklearn\\linear_model\\_sag.py:348: ConvergenceWarning: The max_iter was reached which means the coef_ did not converge\n",
      "  warnings.warn(\n",
      "[I 2025-08-03 09:55:59,865] Trial 4 finished with value: 0.3341213504168694 and parameters: {'SoftmaxRegressionModel__C': 3.8520708690319903, 'SoftmaxRegressionModel__l1_ratio': 0.4066901016252007}. Best is trial 0 with value: 0.3341213504168694.\n",
      "c:\\Users\\singer\\anaconda3\\lib\\site-packages\\sklearn\\linear_model\\_sag.py:348: ConvergenceWarning: The max_iter was reached which means the coef_ did not converge\n",
      "  warnings.warn(\n",
      "c:\\Users\\singer\\anaconda3\\lib\\site-packages\\sklearn\\linear_model\\_sag.py:348: ConvergenceWarning: The max_iter was reached which means the coef_ did not converge\n",
      "  warnings.warn(\n",
      "c:\\Users\\singer\\anaconda3\\lib\\site-packages\\sklearn\\linear_model\\_sag.py:348: ConvergenceWarning: The max_iter was reached which means the coef_ did not converge\n",
      "  warnings.warn(\n",
      "[I 2025-08-03 09:56:03,474] Trial 5 finished with value: 0.3341213504168694 and parameters: {'SoftmaxRegressionModel__C': 1.368466977859274, 'SoftmaxRegressionModel__l1_ratio': 0.5441362876381798}. Best is trial 0 with value: 0.3341213504168694.\n",
      "c:\\Users\\singer\\anaconda3\\lib\\site-packages\\sklearn\\linear_model\\_sag.py:348: ConvergenceWarning: The max_iter was reached which means the coef_ did not converge\n",
      "  warnings.warn(\n",
      "c:\\Users\\singer\\anaconda3\\lib\\site-packages\\sklearn\\linear_model\\_sag.py:348: ConvergenceWarning: The max_iter was reached which means the coef_ did not converge\n",
      "  warnings.warn(\n",
      "c:\\Users\\singer\\anaconda3\\lib\\site-packages\\sklearn\\linear_model\\_sag.py:348: ConvergenceWarning: The max_iter was reached which means the coef_ did not converge\n",
      "  warnings.warn(\n",
      "[I 2025-08-03 09:56:08,264] Trial 6 finished with value: 0.3341213504168694 and parameters: {'SoftmaxRegressionModel__C': 3.2974357855520258, 'SoftmaxRegressionModel__l1_ratio': 0.7668551062985054}. Best is trial 0 with value: 0.3341213504168694.\n",
      "c:\\Users\\singer\\anaconda3\\lib\\site-packages\\sklearn\\linear_model\\_sag.py:348: ConvergenceWarning: The max_iter was reached which means the coef_ did not converge\n",
      "  warnings.warn(\n",
      "c:\\Users\\singer\\anaconda3\\lib\\site-packages\\sklearn\\linear_model\\_sag.py:348: ConvergenceWarning: The max_iter was reached which means the coef_ did not converge\n",
      "  warnings.warn(\n",
      "c:\\Users\\singer\\anaconda3\\lib\\site-packages\\sklearn\\linear_model\\_sag.py:348: ConvergenceWarning: The max_iter was reached which means the coef_ did not converge\n",
      "  warnings.warn(\n",
      "[I 2025-08-03 09:56:12,855] Trial 7 finished with value: 0.3341213504168694 and parameters: {'SoftmaxRegressionModel__C': 8.58717163356514, 'SoftmaxRegressionModel__l1_ratio': 0.08970338278592749}. Best is trial 0 with value: 0.3341213504168694.\n",
      "c:\\Users\\singer\\anaconda3\\lib\\site-packages\\sklearn\\linear_model\\_sag.py:348: ConvergenceWarning: The max_iter was reached which means the coef_ did not converge\n",
      "  warnings.warn(\n",
      "c:\\Users\\singer\\anaconda3\\lib\\site-packages\\sklearn\\linear_model\\_sag.py:348: ConvergenceWarning: The max_iter was reached which means the coef_ did not converge\n",
      "  warnings.warn(\n",
      "c:\\Users\\singer\\anaconda3\\lib\\site-packages\\sklearn\\linear_model\\_sag.py:348: ConvergenceWarning: The max_iter was reached which means the coef_ did not converge\n",
      "  warnings.warn(\n",
      "[I 2025-08-03 09:56:18,214] Trial 8 finished with value: 0.3341213504168694 and parameters: {'SoftmaxRegressionModel__C': 1.569535910846266, 'SoftmaxRegressionModel__l1_ratio': 0.9941936842973615}. Best is trial 0 with value: 0.3341213504168694.\n",
      "c:\\Users\\singer\\anaconda3\\lib\\site-packages\\sklearn\\linear_model\\_sag.py:348: ConvergenceWarning: The max_iter was reached which means the coef_ did not converge\n",
      "  warnings.warn(\n",
      "c:\\Users\\singer\\anaconda3\\lib\\site-packages\\sklearn\\linear_model\\_sag.py:348: ConvergenceWarning: The max_iter was reached which means the coef_ did not converge\n",
      "  warnings.warn(\n",
      "c:\\Users\\singer\\anaconda3\\lib\\site-packages\\sklearn\\linear_model\\_sag.py:348: ConvergenceWarning: The max_iter was reached which means the coef_ did not converge\n",
      "  warnings.warn(\n",
      "[I 2025-08-03 09:56:22,361] Trial 9 finished with value: 0.3341213504168694 and parameters: {'SoftmaxRegressionModel__C': 1.718622517380163, 'SoftmaxRegressionModel__l1_ratio': 0.23898637194265104}. Best is trial 0 with value: 0.3341213504168694.\n",
      "c:\\Users\\singer\\anaconda3\\lib\\site-packages\\sklearn\\linear_model\\_sag.py:348: ConvergenceWarning: The max_iter was reached which means the coef_ did not converge\n",
      "  warnings.warn(\n",
      "c:\\Users\\singer\\anaconda3\\lib\\site-packages\\sklearn\\linear_model\\_sag.py:348: ConvergenceWarning: The max_iter was reached which means the coef_ did not converge\n",
      "  warnings.warn(\n",
      "c:\\Users\\singer\\anaconda3\\lib\\site-packages\\sklearn\\linear_model\\_sag.py:348: ConvergenceWarning: The max_iter was reached which means the coef_ did not converge\n",
      "  warnings.warn(\n",
      "[I 2025-08-03 09:56:26,736] Trial 10 finished with value: 0.3341213504168694 and parameters: {'SoftmaxRegressionModel__C': 4.256962562496521, 'SoftmaxRegressionModel__l1_ratio': 0.7349525766431395}. Best is trial 0 with value: 0.3341213504168694.\n",
      "c:\\Users\\singer\\anaconda3\\lib\\site-packages\\sklearn\\linear_model\\_sag.py:348: ConvergenceWarning: The max_iter was reached which means the coef_ did not converge\n",
      "  warnings.warn(\n",
      "c:\\Users\\singer\\anaconda3\\lib\\site-packages\\sklearn\\linear_model\\_sag.py:348: ConvergenceWarning: The max_iter was reached which means the coef_ did not converge\n",
      "  warnings.warn(\n",
      "c:\\Users\\singer\\anaconda3\\lib\\site-packages\\sklearn\\linear_model\\_sag.py:348: ConvergenceWarning: The max_iter was reached which means the coef_ did not converge\n",
      "  warnings.warn(\n",
      "[I 2025-08-03 09:56:31,580] Trial 11 finished with value: 0.3341213504168694 and parameters: {'SoftmaxRegressionModel__C': 4.879152395325087, 'SoftmaxRegressionModel__l1_ratio': 0.031130748417627196}. Best is trial 0 with value: 0.3341213504168694.\n",
      "c:\\Users\\singer\\anaconda3\\lib\\site-packages\\sklearn\\linear_model\\_sag.py:348: ConvergenceWarning: The max_iter was reached which means the coef_ did not converge\n",
      "  warnings.warn(\n",
      "c:\\Users\\singer\\anaconda3\\lib\\site-packages\\sklearn\\linear_model\\_sag.py:348: ConvergenceWarning: The max_iter was reached which means the coef_ did not converge\n",
      "  warnings.warn(\n",
      "c:\\Users\\singer\\anaconda3\\lib\\site-packages\\sklearn\\linear_model\\_sag.py:348: ConvergenceWarning: The max_iter was reached which means the coef_ did not converge\n",
      "  warnings.warn(\n",
      "[I 2025-08-03 09:56:36,338] Trial 12 finished with value: 0.3341213504168694 and parameters: {'SoftmaxRegressionModel__C': 7.989394076610528, 'SoftmaxRegressionModel__l1_ratio': 0.28643532791235427}. Best is trial 0 with value: 0.3341213504168694.\n",
      "c:\\Users\\singer\\anaconda3\\lib\\site-packages\\sklearn\\linear_model\\_sag.py:348: ConvergenceWarning: The max_iter was reached which means the coef_ did not converge\n",
      "  warnings.warn(\n",
      "c:\\Users\\singer\\anaconda3\\lib\\site-packages\\sklearn\\linear_model\\_sag.py:348: ConvergenceWarning: The max_iter was reached which means the coef_ did not converge\n",
      "  warnings.warn(\n",
      "c:\\Users\\singer\\anaconda3\\lib\\site-packages\\sklearn\\linear_model\\_sag.py:348: ConvergenceWarning: The max_iter was reached which means the coef_ did not converge\n",
      "  warnings.warn(\n",
      "[I 2025-08-03 09:56:40,643] Trial 13 finished with value: 0.3341213504168694 and parameters: {'SoftmaxRegressionModel__C': 3.5942854415629144, 'SoftmaxRegressionModel__l1_ratio': 0.37642024452954315}. Best is trial 0 with value: 0.3341213504168694.\n",
      "c:\\Users\\singer\\anaconda3\\lib\\site-packages\\sklearn\\linear_model\\_sag.py:348: ConvergenceWarning: The max_iter was reached which means the coef_ did not converge\n",
      "  warnings.warn(\n",
      "c:\\Users\\singer\\anaconda3\\lib\\site-packages\\sklearn\\linear_model\\_sag.py:348: ConvergenceWarning: The max_iter was reached which means the coef_ did not converge\n",
      "  warnings.warn(\n",
      "c:\\Users\\singer\\anaconda3\\lib\\site-packages\\sklearn\\linear_model\\_sag.py:348: ConvergenceWarning: The max_iter was reached which means the coef_ did not converge\n",
      "  warnings.warn(\n",
      "[I 2025-08-03 09:56:44,871] Trial 14 finished with value: 0.3341213504168694 and parameters: {'SoftmaxRegressionModel__C': 1.0632230047286573, 'SoftmaxRegressionModel__l1_ratio': 0.4941491215472047}. Best is trial 0 with value: 0.3341213504168694.\n"
     ]
    }
   ],
   "source": [
    "study_1 = optuna.create_study(direction='maximize', sampler=optuna.samplers.RandomSampler(seed=30))\n",
    "study_1.optimize(objective, n_trials=15)"
   ]
  },
  {
   "cell_type": "code",
   "execution_count": null,
   "id": "6540bf8b",
   "metadata": {},
   "outputs": [
    {
     "name": "stdout",
     "output_type": "stream",
     "text": [
      "Best params: {'SoftmaxRegressionModel__C': 4.407004927203142, 'SoftmaxRegressionModel__l1_ratio': 0.38074848963511654}\n",
      "Best score: 0.3341213504168694\n"
     ]
    }
   ],
   "source": [
    "print(\"Best params:\", study_1.best_trial.params)\n",
    "print(\"Best score:\", study_1.best_trial.value)"
   ]
  },
  {
   "cell_type": "code",
   "execution_count": 522,
   "id": "5fd1226e",
   "metadata": {},
   "outputs": [],
   "source": [
    "from sklearn.metrics import accuracy_score"
   ]
  },
  {
   "cell_type": "code",
   "execution_count": 523,
   "id": "3ef041a0",
   "metadata": {},
   "outputs": [],
   "source": [
    "best_params = study.best_trial.params"
   ]
  },
  {
   "cell_type": "code",
   "execution_count": 524,
   "id": "dd5391c6",
   "metadata": {},
   "outputs": [
    {
     "data": {
      "text/plain": [
       "{'SoftmaxRegressionModel__C': 4.407004927203142,\n",
       " 'SoftmaxRegressionModel__l1_ratio': 0.38074848963511654}"
      ]
     },
     "execution_count": 524,
     "metadata": {},
     "output_type": "execute_result"
    }
   ],
   "source": [
    "best_params"
   ]
  },
  {
   "cell_type": "code",
   "execution_count": 525,
   "id": "a064225a",
   "metadata": {},
   "outputs": [
    {
     "name": "stdout",
     "output_type": "stream",
     "text": [
      " test accuracy score: 0.8936 and train accuracy score: 0.9295\n"
     ]
    },
    {
     "name": "stderr",
     "output_type": "stream",
     "text": [
      "c:\\Users\\singer\\anaconda3\\lib\\site-packages\\sklearn\\linear_model\\_sag.py:348: ConvergenceWarning: The max_iter was reached which means the coef_ did not converge\n",
      "  warnings.warn(\n"
     ]
    }
   ],
   "source": [
    "\n",
    "# Rebuild pipeline with best params\n",
    "best_pipeline = Pipeline([\n",
    "    ('scaler', StandardScaler()),\n",
    "    ('LogisticRegressionModel', LogisticRegression(\n",
    "        C=best_params['SoftmaxRegressionModel__C'],\n",
    "        l1_ratio=best_params['SoftmaxRegressionModel__l1_ratio'],\n",
    "        penalty='elasticnet',\n",
    "        solver='saga',\n",
    "        random_state=30\n",
    "    ))\n",
    "])\n",
    "\n",
    "# Fit the full pipeline on all training data\n",
    "best_pipeline.fit(X_train, y_train)\n",
    "\n",
    "y_pred_test = best_pipeline.predict(X_test)\n",
    "y_pred_train = best_pipeline.predict(X_train)\n",
    "test_score=accuracy_score(y_test, y_pred_test)\n",
    "train_score=accuracy_score(y_train, y_pred_train)\n",
    "print(f\" test accuracy score: {test_score:.4f} and train accuracy score: {train_score:.4f}\")\n",
    "\n"
   ]
  },
  {
   "cell_type": "code",
   "execution_count": 551,
   "id": "c9701f90",
   "metadata": {},
   "outputs": [
    {
     "data": {
      "text/plain": [
       "['SoftMaxRegression.pkl']"
      ]
     },
     "execution_count": 551,
     "metadata": {},
     "output_type": "execute_result"
    }
   ],
   "source": [
    "import joblib\n",
    "\n",
    "# Save model or pipeline\n",
    "joblib.dump(best_pipeline, 'SoftMaxRegression.pkl')"
   ]
  },
  {
   "cell_type": "code",
   "execution_count": 526,
   "id": "eeaf26bd",
   "metadata": {},
   "outputs": [
    {
     "data": {
      "text/plain": [
       "dict_keys(['model', 'accuracy_score_train', 'accuracy_score_test', 'f1_score_train'])"
      ]
     },
     "execution_count": 526,
     "metadata": {},
     "output_type": "execute_result"
    }
   ],
   "source": [
    "dict.keys()"
   ]
  },
  {
   "cell_type": "code",
   "execution_count": 527,
   "id": "ff0f9c17",
   "metadata": {},
   "outputs": [
    {
     "name": "stdout",
     "output_type": "stream",
     "text": [
      "f1_score: 0.8893654939667285\n"
     ]
    }
   ],
   "source": [
    "from sklearn.metrics import f1_score\n",
    "\n",
    "# here macro means we calculate precision for each class and then take the average\n",
    "f1 = f1_score(y_test, y_pred_test, average='macro') \n",
    "\n",
    "print(\"f1_score:\", f1)"
   ]
  },
  {
   "cell_type": "code",
   "execution_count": 528,
   "id": "e955a254",
   "metadata": {},
   "outputs": [],
   "source": [
    "dict['accuracy_score_test'].append(test_score)\n",
    "dict['accuracy_score_train'].append(train_score)\n",
    "dict['f1_score_train'].append(f1)"
   ]
  },
  {
   "cell_type": "code",
   "execution_count": 529,
   "id": "bf491496",
   "metadata": {},
   "outputs": [
    {
     "data": {
      "text/plain": [
       "{'model': ['SoftmaxRegressionModel',\n",
       "  'RandomForestClassifier',\n",
       "  'XGBClassifier'],\n",
       " 'accuracy_score_train': [0.9295023696682464],\n",
       " 'accuracy_score_test': [0.8936170212765957],\n",
       " 'f1_score_train': [0.8893654939667285]}"
      ]
     },
     "execution_count": 529,
     "metadata": {},
     "output_type": "execute_result"
    }
   ],
   "source": [
    "dict"
   ]
  },
  {
   "cell_type": "markdown",
   "id": "7551328b",
   "metadata": {},
   "source": [
    "### Random Forest Algorithm"
   ]
  },
  {
   "cell_type": "code",
   "execution_count": 530,
   "id": "845002f9",
   "metadata": {},
   "outputs": [],
   "source": [
    "from sklearn.ensemble import RandomForestClassifier"
   ]
  },
  {
   "cell_type": "code",
   "execution_count": 531,
   "id": "638bbd84",
   "metadata": {},
   "outputs": [],
   "source": [
    "def objective(trial):\n",
    "    # Suggest hyperparameters\n",
    "    n_estimators = trial.suggest_int('RandomForestModel__n_estimators',1,100) #considering integer values between 1 and 100 \n",
    "    max_depth = trial.suggest_int( 'RandomForestModel__max_depth',1,12) \n",
    "    criterion=trial.suggest_categorical('RandomForestModel__criterion',['gini','entropy']) #considering float values between 0 and 1\n",
    "    \n",
    "    # Create pipeline\n",
    "    pipeline = Pipeline([\n",
    "        ('Preprocessing', PreprocessingFeatures),\n",
    "        ('RandomForestModel', RandomForestClassifier(\n",
    "            random_state=30,\n",
    "            n_estimators=n_estimators,\n",
    "            max_depth=max_depth,\n",
    "            criterion=criterion,\n",
    "            n_jobs=-1\n",
    "            ))\n",
    "    ])\n",
    "\n",
    "    # Cross-validate\n",
    "    score = cross_val_score(pipeline, X_train, y_train, cv=3, scoring='accuracy')\n",
    "    return score.mean()\n",
    "    #optuna tries to maximize the accuracy score\n",
    "    # we can also use other scoring metrics like f1, precision, recall, roc_auc\n",
    "    "
   ]
  },
  {
   "cell_type": "code",
   "execution_count": 532,
   "id": "3972b4b8",
   "metadata": {},
   "outputs": [
    {
     "name": "stderr",
     "output_type": "stream",
     "text": [
      "[I 2025-08-03 09:56:45,378] A new study created in memory with name: no-name-28b52b40-97aa-42c2-912c-5daa2a241413\n",
      "[I 2025-08-03 09:56:45,963] Trial 0 finished with value: 0.9757168532412998 and parameters: {'RandomForestModel__n_estimators': 65, 'RandomForestModel__max_depth': 5, 'RandomForestModel__criterion': 'gini'}. Best is trial 0 with value: 0.9757168532412998.\n",
      "[I 2025-08-03 09:56:46,581] Trial 1 finished with value: 0.975123733431098 and parameters: {'RandomForestModel__n_estimators': 97, 'RandomForestModel__max_depth': 5, 'RandomForestModel__criterion': 'gini'}. Best is trial 0 with value: 0.9757168532412998.\n",
      "[I 2025-08-03 09:56:47,029] Trial 2 finished with value: 0.9810422895478172 and parameters: {'RandomForestModel__n_estimators': 59, 'RandomForestModel__max_depth': 5, 'RandomForestModel__criterion': 'entropy'}. Best is trial 2 with value: 0.9810422895478172.\n",
      "[I 2025-08-03 09:56:47,451] Trial 3 finished with value: 0.9905248320196204 and parameters: {'RandomForestModel__n_estimators': 52, 'RandomForestModel__max_depth': 10, 'RandomForestModel__criterion': 'gini'}. Best is trial 3 with value: 0.9905248320196204.\n",
      "[I 2025-08-03 09:56:47,706] Trial 4 finished with value: 0.9863793143408573 and parameters: {'RandomForestModel__n_estimators': 20, 'RandomForestModel__max_depth': 12, 'RandomForestModel__criterion': 'entropy'}. Best is trial 3 with value: 0.9905248320196204.\n",
      "[I 2025-08-03 09:56:48,154] Trial 5 finished with value: 0.9840089420976003 and parameters: {'RandomForestModel__n_estimators': 63, 'RandomForestModel__max_depth': 9, 'RandomForestModel__criterion': 'gini'}. Best is trial 3 with value: 0.9905248320196204.\n",
      "[I 2025-08-03 09:56:48,731] Trial 6 finished with value: 0.9591242475385 and parameters: {'RandomForestModel__n_estimators': 91, 'RandomForestModel__max_depth': 4, 'RandomForestModel__criterion': 'gini'}. Best is trial 3 with value: 0.9905248320196204.\n",
      "[I 2025-08-03 09:56:48,899] Trial 7 finished with value: 0.943125815144677 and parameters: {'RandomForestModel__n_estimators': 3, 'RandomForestModel__max_depth': 6, 'RandomForestModel__criterion': 'gini'}. Best is trial 3 with value: 0.9905248320196204.\n",
      "[I 2025-08-03 09:56:49,342] Trial 8 finished with value: 0.9834147687886238 and parameters: {'RandomForestModel__n_estimators': 52, 'RandomForestModel__max_depth': 6, 'RandomForestModel__criterion': 'entropy'}. Best is trial 3 with value: 0.9905248320196204.\n",
      "[I 2025-08-03 09:56:49,664] Trial 9 finished with value: 0.9875634469637111 and parameters: {'RandomForestModel__n_estimators': 34, 'RandomForestModel__max_depth': 8, 'RandomForestModel__criterion': 'entropy'}. Best is trial 3 with value: 0.9905248320196204.\n",
      "[I 2025-08-03 09:56:49,956] Trial 10 finished with value: 0.9846031154065767 and parameters: {'RandomForestModel__n_estimators': 25, 'RandomForestModel__max_depth': 9, 'RandomForestModel__criterion': 'entropy'}. Best is trial 3 with value: 0.9905248320196204.\n",
      "[I 2025-08-03 09:56:50,275] Trial 11 finished with value: 0.9798613174212879 and parameters: {'RandomForestModel__n_estimators': 38, 'RandomForestModel__max_depth': 7, 'RandomForestModel__criterion': 'gini'}. Best is trial 3 with value: 0.9905248320196204.\n",
      "[I 2025-08-03 09:56:50,497] Trial 12 finished with value: 0.6439395375983178 and parameters: {'RandomForestModel__n_estimators': 17, 'RandomForestModel__max_depth': 1, 'RandomForestModel__criterion': 'gini'}. Best is trial 3 with value: 0.9905248320196204.\n",
      "[I 2025-08-03 09:56:50,796] Trial 13 finished with value: 0.9869713806522843 and parameters: {'RandomForestModel__n_estimators': 34, 'RandomForestModel__max_depth': 10, 'RandomForestModel__criterion': 'gini'}. Best is trial 3 with value: 0.9905248320196204.\n",
      "[I 2025-08-03 09:56:51,356] Trial 14 finished with value: 0.9780798509931333 and parameters: {'RandomForestModel__n_estimators': 85, 'RandomForestModel__max_depth': 5, 'RandomForestModel__criterion': 'entropy'}. Best is trial 3 with value: 0.9905248320196204.\n"
     ]
    }
   ],
   "source": [
    "study_2= optuna.create_study(direction='maximize', sampler=optuna.samplers.RandomSampler(seed=30))\n",
    "study_2.optimize(objective, n_trials=15)"
   ]
  },
  {
   "cell_type": "code",
   "execution_count": 533,
   "id": "89d63d77",
   "metadata": {},
   "outputs": [
    {
     "data": {
      "text/plain": [
       "dict_keys(['RandomForestModel__n_estimators', 'RandomForestModel__max_depth', 'RandomForestModel__criterion'])"
      ]
     },
     "execution_count": 533,
     "metadata": {},
     "output_type": "execute_result"
    }
   ],
   "source": [
    "best_params= study_2.best_trial.params\n",
    "best_params.keys()"
   ]
  },
  {
   "cell_type": "code",
   "execution_count": 534,
   "id": "a01a3b48",
   "metadata": {},
   "outputs": [
    {
     "name": "stdout",
     "output_type": "stream",
     "text": [
      " test accuracy score: 0.9929 and train accuracy score: 1.0000\n"
     ]
    }
   ],
   "source": [
    "\n",
    "\n",
    "# Rebuild pipeline with best params\n",
    "RandomForest_best_pipeline = Pipeline([\n",
    "    ('Preprocessing', PreprocessingFeatures),\n",
    "    ('LogisticRegressionModel',RandomForestClassifier(\n",
    "            random_state=30,\n",
    "            n_estimators=best_params['RandomForestModel__n_estimators'],\n",
    "            max_depth=best_params['RandomForestModel__max_depth'],\n",
    "            criterion=best_params['RandomForestModel__criterion'],\n",
    "            n_jobs=-1\n",
    "            ))\n",
    "])\n",
    "\n",
    "# Fit the full pipeline on all training data\n",
    "RandomForest_best_pipeline.fit(X_train, y_train)\n",
    "y_pred_test = RandomForest_best_pipeline.predict(X_test)\n",
    "y_pred_train = RandomForest_best_pipeline.predict(X_train)\n",
    "\n",
    "test_score=accuracy_score(y_test, y_pred_test)\n",
    "train_score=accuracy_score(y_train, y_pred_train)\n",
    "print(f\" test accuracy score: {test_score:.4f} and train accuracy score: {train_score:.4f}\")\n"
   ]
  },
  {
   "cell_type": "code",
   "execution_count": 552,
   "id": "fe3555eb",
   "metadata": {},
   "outputs": [
    {
     "data": {
      "text/plain": [
       "['RandomForestModel.pkl']"
      ]
     },
     "execution_count": 552,
     "metadata": {},
     "output_type": "execute_result"
    }
   ],
   "source": [
    "import joblib\n",
    "\n",
    "# Save model or pipeline\n",
    "joblib.dump(RandomForest_best_pipeline, 'RandomForestModel.pkl')"
   ]
  },
  {
   "cell_type": "code",
   "execution_count": 535,
   "id": "c89d6e48",
   "metadata": {},
   "outputs": [
    {
     "name": "stdout",
     "output_type": "stream",
     "text": [
      "f1_score: 0.9922727711774364\n"
     ]
    }
   ],
   "source": [
    "from sklearn.metrics import f1_score\n",
    "\n",
    "# here macro means we calculate precision for each class and then take the average\n",
    "f1 = f1_score(y_test, y_pred_test, average='macro') \n",
    "\n",
    "print(\"f1_score:\", f1)\n",
    "\n",
    "\n"
   ]
  },
  {
   "cell_type": "code",
   "execution_count": 536,
   "id": "880ca7f3",
   "metadata": {},
   "outputs": [],
   "source": [
    "dict['accuracy_score_test'].append(test_score)\n",
    "dict['accuracy_score_train'].append(train_score)\n",
    "dict['f1_score_train'].append(f1)"
   ]
  },
  {
   "cell_type": "code",
   "execution_count": 537,
   "id": "7d697df0",
   "metadata": {},
   "outputs": [
    {
     "data": {
      "text/plain": [
       "{'model': ['SoftmaxRegressionModel',\n",
       "  'RandomForestClassifier',\n",
       "  'XGBClassifier'],\n",
       " 'accuracy_score_train': [0.9295023696682464, 1.0],\n",
       " 'accuracy_score_test': [0.8936170212765957, 0.9929078014184397],\n",
       " 'f1_score_train': [0.8893654939667285, 0.9922727711774364]}"
      ]
     },
     "execution_count": 537,
     "metadata": {},
     "output_type": "execute_result"
    }
   ],
   "source": [
    "dict"
   ]
  },
  {
   "cell_type": "markdown",
   "id": "63466152",
   "metadata": {},
   "source": [
    "### XGBoost"
   ]
  },
  {
   "cell_type": "code",
   "execution_count": 538,
   "id": "3cd4c694",
   "metadata": {},
   "outputs": [],
   "source": [
    "from xgboost import XGBClassifier"
   ]
  },
  {
   "cell_type": "code",
   "execution_count": 539,
   "id": "ac8a1eba",
   "metadata": {},
   "outputs": [],
   "source": [
    "def objective(trial):\n",
    "    # Suggest hyperparameters\n",
    "    n_estimators = trial.suggest_int('XGBoostModel__n_estimators',1,100) #considering integer values between 1 and 100 \n",
    "    max_depth = trial.suggest_int( 'XGBoostModel__max_depth',1,12) \n",
    "    learning_rate=trial.suggest_float('XGBoostModel__learning_rate',0.01,1,log=True) #considering float values between 0 and 1\n",
    "    \n",
    "    # Create pipeline\n",
    "    pipeline = Pipeline([\n",
    "        ('Preprocessing',PreprocessingFeatures),\n",
    "        ('XGBoostModel', XGBClassifier(\n",
    "            random_state=30,\n",
    "            n_estimators=n_estimators,\n",
    "            max_depth=max_depth,\n",
    "            learning_rate=learning_rate,\n",
    "            n_jobs=-1\n",
    "            ))\n",
    "    ])\n",
    "\n",
    "    # Cross-validate\n",
    "    score = cross_val_score(pipeline, X_train, y_train, cv=3, scoring='accuracy')\n",
    "    return score.mean()\n",
    "    #optuna tries to maximize the accuracy score\n",
    "    # we can also use other scoring metrics like f1, precision, recall, roc_auc\n",
    "    "
   ]
  },
  {
   "cell_type": "code",
   "execution_count": 540,
   "id": "153a9869",
   "metadata": {},
   "outputs": [
    {
     "name": "stderr",
     "output_type": "stream",
     "text": [
      "[I 2025-08-03 09:56:51,713] A new study created in memory with name: no-name-2fe07c48-c576-46aa-9fc4-e1cd651dfea5\n",
      "[I 2025-08-03 09:56:52,296] Trial 0 finished with value: 0.9881534062775885 and parameters: {'XGBoostModel__n_estimators': 65, 'XGBoostModel__max_depth': 5, 'XGBoostModel__learning_rate': 0.21188285231627235}. Best is trial 0 with value: 0.9881534062775885.\n",
      "[I 2025-08-03 09:56:52,566] Trial 1 finished with value: 0.9846010084090272 and parameters: {'XGBoostModel__n_estimators': 17, 'XGBoostModel__max_depth': 12, 'XGBoostModel__learning_rate': 0.04935415046269999}. Best is trial 0 with value: 0.9881534062775885.\n",
      "[I 2025-08-03 09:56:53,382] Trial 2 finished with value: 0.9875613399661617 and parameters: {'XGBoostModel__n_estimators': 100, 'XGBoostModel__max_depth': 3, 'XGBoostModel__learning_rate': 0.14838449980044874}. Best is trial 0 with value: 0.9881534062775885.\n",
      "[I 2025-08-03 09:56:53,717] Trial 3 finished with value: 0.985193074720454 and parameters: {'XGBoostModel__n_estimators': 41, 'XGBoostModel__max_depth': 2, 'XGBoostModel__learning_rate': 0.12253850436457321}. Best is trial 0 with value: 0.9881534062775885.\n",
      "[I 2025-08-03 09:56:54,041] Trial 4 finished with value: 0.9893375389004423 and parameters: {'XGBoostModel__n_estimators': 52, 'XGBoostModel__max_depth': 10, 'XGBoostModel__learning_rate': 0.7373951666430576}. Best is trial 4 with value: 0.9893375389004423.\n",
      "[I 2025-08-03 09:56:54,220] Trial 5 finished with value: 0.9881534062775885 and parameters: {'XGBoostModel__n_estimators': 9, 'XGBoostModel__max_depth': 3, 'XGBoostModel__learning_rate': 0.9736152518989603}. Best is trial 4 with value: 0.9893375389004423.\n",
      "[I 2025-08-03 09:56:54,624] Trial 6 finished with value: 0.985193074720454 and parameters: {'XGBoostModel__n_estimators': 24, 'XGBoostModel__max_depth': 3, 'XGBoostModel__learning_rate': 0.1812173025849695}. Best is trial 4 with value: 0.9893375389004423.\n",
      "[I 2025-08-03 09:56:55,955] Trial 7 finished with value: 0.9846010084090272 and parameters: {'XGBoostModel__n_estimators': 74, 'XGBoostModel__max_depth': 9, 'XGBoostModel__learning_rate': 0.011541479827466346}. Best is trial 4 with value: 0.9893375389004423.\n",
      "[I 2025-08-03 09:56:57,092] Trial 8 finished with value: 0.9887454725890154 and parameters: {'XGBoostModel__n_estimators': 91, 'XGBoostModel__max_depth': 4, 'XGBoostModel__learning_rate': 0.12918887835431114}. Best is trial 4 with value: 0.9893375389004423.\n",
      "[I 2025-08-03 09:56:57,357] Trial 9 finished with value: 0.9715681750662123 and parameters: {'XGBoostModel__n_estimators': 38, 'XGBoostModel__max_depth': 1, 'XGBoostModel__learning_rate': 0.09734154680038623}. Best is trial 4 with value: 0.9893375389004423.\n",
      "[I 2025-08-03 09:56:58,093] Trial 10 finished with value: 0.9881534062775885 and parameters: {'XGBoostModel__n_estimators': 84, 'XGBoostModel__max_depth': 5, 'XGBoostModel__learning_rate': 0.10734065090408675}. Best is trial 4 with value: 0.9893375389004423.\n",
      "[I 2025-08-03 09:56:58,479] Trial 11 finished with value: 0.9887454725890154 and parameters: {'XGBoostModel__n_estimators': 48, 'XGBoostModel__max_depth': 5, 'XGBoostModel__learning_rate': 0.3078038225082766}. Best is trial 4 with value: 0.9893375389004423.\n",
      "[I 2025-08-03 09:56:58,921] Trial 12 finished with value: 0.9857851410318809 and parameters: {'XGBoostModel__n_estimators': 34, 'XGBoostModel__max_depth': 8, 'XGBoostModel__learning_rate': 0.04288118356397903}. Best is trial 4 with value: 0.9893375389004423.\n",
      "[I 2025-08-03 09:56:59,253] Trial 13 finished with value: 0.9881534062775885 and parameters: {'XGBoostModel__n_estimators': 35, 'XGBoostModel__max_depth': 3, 'XGBoostModel__learning_rate': 0.24882861942046622}. Best is trial 4 with value: 0.9893375389004423.\n",
      "[I 2025-08-03 09:56:59,528] Trial 14 finished with value: 0.985193074720454 and parameters: {'XGBoostModel__n_estimators': 22, 'XGBoostModel__max_depth': 4, 'XGBoostModel__learning_rate': 0.0559484626417676}. Best is trial 4 with value: 0.9893375389004423.\n"
     ]
    }
   ],
   "source": [
    "study_3= optuna.create_study(direction='maximize', sampler=optuna.samplers.RandomSampler(seed=30))\n",
    "study_3.optimize(objective, n_trials=15)"
   ]
  },
  {
   "cell_type": "code",
   "execution_count": 541,
   "id": "74aed72e",
   "metadata": {},
   "outputs": [
    {
     "data": {
      "text/plain": [
       "dict_keys(['XGBoostModel__n_estimators', 'XGBoostModel__max_depth', 'XGBoostModel__learning_rate'])"
      ]
     },
     "execution_count": 541,
     "metadata": {},
     "output_type": "execute_result"
    }
   ],
   "source": [
    "best_params= study_3.best_trial.params\n",
    "best_params.keys()"
   ]
  },
  {
   "cell_type": "code",
   "execution_count": 542,
   "id": "eba3d21e",
   "metadata": {},
   "outputs": [
    {
     "name": "stdout",
     "output_type": "stream",
     "text": [
      " test accuracy score: 0.9976 and train accuracy score: 1.0000\n"
     ]
    }
   ],
   "source": [
    "\n",
    "# Rebuild pipeline with best params\n",
    "XGBClassifier_best_pipeline = Pipeline([\n",
    "    ('Preprocessing',PreprocessingFeatures),\n",
    "    ('XGBoostModel',XGBClassifier(\n",
    "            random_state=30,\n",
    "            n_estimators=best_params['XGBoostModel__n_estimators'],\n",
    "            max_depth=best_params['XGBoostModel__max_depth'],\n",
    "            learning_rate=best_params['XGBoostModel__learning_rate'],\n",
    "            n_jobs=-1\n",
    "            ))\n",
    "])\n",
    "\n",
    "# Fit the full pipeline on all training data\n",
    "XGBClassifier_best_pipeline.fit(X_train, y_train)\n",
    "y_pred_test = XGBClassifier_best_pipeline.predict(X_test)\n",
    "y_pred_train = XGBClassifier_best_pipeline.predict(X_train)\n",
    "\n",
    "test_score=accuracy_score(y_test, y_pred_test)\n",
    "train_score=accuracy_score(y_train, y_pred_train)\n",
    "print(f\" test accuracy score: {test_score:.4f} and train accuracy score: {train_score:.4f}\")"
   ]
  },
  {
   "cell_type": "code",
   "execution_count": 553,
   "id": "a44313b8",
   "metadata": {},
   "outputs": [
    {
     "data": {
      "text/plain": [
       "['XGBClassifer.pkl']"
      ]
     },
     "execution_count": 553,
     "metadata": {},
     "output_type": "execute_result"
    }
   ],
   "source": [
    "import joblib\n",
    "\n",
    "# Save model or pipeline\n",
    "joblib.dump(XGBClassifier_best_pipeline, 'XGBClassifer.pkl')"
   ]
  },
  {
   "cell_type": "code",
   "execution_count": 543,
   "id": "b1183b5a",
   "metadata": {},
   "outputs": [
    {
     "name": "stdout",
     "output_type": "stream",
     "text": [
      "f1_score: 0.9979337189421223\n"
     ]
    }
   ],
   "source": [
    "# here macro means we calculate precision for each class and then take the average\n",
    "f1 = f1_score(y_test, y_pred_test, average='macro') \n",
    "\n",
    "print(\"f1_score:\", f1)\n"
   ]
  },
  {
   "cell_type": "code",
   "execution_count": 544,
   "id": "a4d066b6",
   "metadata": {},
   "outputs": [],
   "source": [
    "dict['accuracy_score_test'].append(test_score)\n",
    "dict['accuracy_score_train'].append(train_score)\n",
    "dict['f1_score_train'].append(f1)"
   ]
  },
  {
   "cell_type": "code",
   "execution_count": 545,
   "id": "f32ba0e7",
   "metadata": {},
   "outputs": [
    {
     "data": {
      "text/plain": [
       "{'model': ['SoftmaxRegressionModel',\n",
       "  'RandomForestClassifier',\n",
       "  'XGBClassifier'],\n",
       " 'accuracy_score_train': [0.9295023696682464, 1.0, 1.0],\n",
       " 'accuracy_score_test': [0.8936170212765957,\n",
       "  0.9929078014184397,\n",
       "  0.9976359338061466],\n",
       " 'f1_score_train': [0.8893654939667285,\n",
       "  0.9922727711774364,\n",
       "  0.9979337189421223]}"
      ]
     },
     "execution_count": 545,
     "metadata": {},
     "output_type": "execute_result"
    }
   ],
   "source": [
    "dict"
   ]
  },
  {
   "cell_type": "markdown",
   "id": "2728f451",
   "metadata": {},
   "source": [
    "### Model Performnace"
   ]
  },
  {
   "cell_type": "code",
   "execution_count": 546,
   "id": "9f1ac3e5",
   "metadata": {},
   "outputs": [
    {
     "data": {
      "text/plain": [
       "{'model': ['SoftmaxRegressionModel',\n",
       "  'RandomForestClassifier',\n",
       "  'XGBClassifier'],\n",
       " 'accuracy_score_train': [0.9295023696682464, 1.0, 1.0],\n",
       " 'accuracy_score_test': [0.8936170212765957,\n",
       "  0.9929078014184397,\n",
       "  0.9976359338061466],\n",
       " 'f1_score_train': [0.8893654939667285,\n",
       "  0.9922727711774364,\n",
       "  0.9979337189421223]}"
      ]
     },
     "execution_count": 546,
     "metadata": {},
     "output_type": "execute_result"
    }
   ],
   "source": [
    "dict"
   ]
  },
  {
   "cell_type": "code",
   "execution_count": 547,
   "id": "f7c679d8",
   "metadata": {},
   "outputs": [],
   "source": [
    "import pandas as pd"
   ]
  },
  {
   "cell_type": "code",
   "execution_count": 548,
   "id": "77862626",
   "metadata": {},
   "outputs": [
    {
     "data": {
      "text/html": [
       "<div>\n",
       "<style scoped>\n",
       "    .dataframe tbody tr th:only-of-type {\n",
       "        vertical-align: middle;\n",
       "    }\n",
       "\n",
       "    .dataframe tbody tr th {\n",
       "        vertical-align: top;\n",
       "    }\n",
       "\n",
       "    .dataframe thead th {\n",
       "        text-align: right;\n",
       "    }\n",
       "</style>\n",
       "<table border=\"1\" class=\"dataframe\">\n",
       "  <thead>\n",
       "    <tr style=\"text-align: right;\">\n",
       "      <th></th>\n",
       "      <th>model</th>\n",
       "      <th>accuracy_score_train</th>\n",
       "      <th>accuracy_score_test</th>\n",
       "      <th>f1_score_train</th>\n",
       "    </tr>\n",
       "  </thead>\n",
       "  <tbody>\n",
       "    <tr>\n",
       "      <th>0</th>\n",
       "      <td>SoftmaxRegressionModel</td>\n",
       "      <td>0.929502</td>\n",
       "      <td>0.893617</td>\n",
       "      <td>0.889365</td>\n",
       "    </tr>\n",
       "    <tr>\n",
       "      <th>1</th>\n",
       "      <td>RandomForestClassifier</td>\n",
       "      <td>1.000000</td>\n",
       "      <td>0.992908</td>\n",
       "      <td>0.992273</td>\n",
       "    </tr>\n",
       "    <tr>\n",
       "      <th>2</th>\n",
       "      <td>XGBClassifier</td>\n",
       "      <td>1.000000</td>\n",
       "      <td>0.997636</td>\n",
       "      <td>0.997934</td>\n",
       "    </tr>\n",
       "  </tbody>\n",
       "</table>\n",
       "</div>"
      ],
      "text/plain": [
       "                    model  ...  f1_score_train\n",
       "0  SoftmaxRegressionModel  ...        0.889365\n",
       "1  RandomForestClassifier  ...        0.992273\n",
       "2           XGBClassifier  ...        0.997934\n",
       "\n",
       "[3 rows x 4 columns]"
      ]
     },
     "execution_count": 548,
     "metadata": {},
     "output_type": "execute_result"
    }
   ],
   "source": [
    "df = pd.DataFrame(dict)\n",
    "df"
   ]
  },
  {
   "cell_type": "code",
   "execution_count": 550,
   "id": "c0f74be2",
   "metadata": {},
   "outputs": [
    {
     "data": {
      "image/png": "[encoded data removed]",
      "text/plain": [
       "<Figure size 1000x600 with 1 Axes>"
      ]
     },
     "metadata": {},
     "output_type": "display_data"
    }
   ],
   "source": [
    "import pandas as pd\n",
    "import matplotlib.pyplot as plt\n",
    "\n",
    "\n",
    "# Plotting\n",
    "fig, ax = plt.subplots(figsize=(10, 6))\n",
    "bar_plot = df.set_index('model')[['accuracy_score_train', 'accuracy_score_test', 'f1_score_train']].plot(\n",
    "    kind='bar',\n",
    "    ax=ax\n",
    ")\n",
    "\n",
    "# Customize plot\n",
    "plt.title('Model Comparison: Accuracy and F1 Scores')\n",
    "plt.ylabel('Score')\n",
    "plt.ylim(0.85, 1.05)\n",
    "plt.xticks(rotation=15)\n",
    "plt.grid(True, axis='y', linestyle='--', alpha=0.7)\n",
    "plt.legend(loc='lower right')\n",
    "plt.tight_layout()\n",
    "\n",
    "# Add values on top of each bar\n",
    "for container in bar_plot.containers:\n",
    "    bar_plot.bar_label(container, fmt='%.4f', label_type='edge', padding=3)\n",
    "\n",
    "# Show the plot\n",
    "plt.show()\n"
   ]
  }
 ],
 "metadata": {
  "kernelspec": {
   "display_name": "Python 3",
   "language": "python",
   "name": "python3"
  },
  "language_info": {
   "codemirror_mode": {
    "name": "ipython",
    "version": 3
   },
   "file_extension": ".py",
   "mimetype": "text/x-python",
   "name": "python",
   "nbconvert_exporter": "python",
   "pygments_lexer": "ipython3",
   "version": "3.10.9"
  }
 },
 "nbformat": 4,
 "nbformat_minor": 5
}
